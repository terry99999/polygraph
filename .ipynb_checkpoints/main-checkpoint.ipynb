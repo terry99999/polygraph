{
 "cells": [
  {
   "cell_type": "code",
   "execution_count": 185,
   "metadata": {},
   "outputs": [],
   "source": [
    "import os\n",
    "from sklearn.feature_extraction.text import TfidfVectorizer\n",
    "from sklearn.metrics.pairwise import cosine_similarity\n",
    "from scipy.sparse import *\n",
    "from scipy import *\n",
    "import numpy as np"
   ]
  },
  {
   "cell_type": "code",
   "execution_count": 126,
   "metadata": {},
   "outputs": [],
   "source": [
    "def load_data(file_name):\n",
    "    with open(file_name, 'r') as input_file:\n",
    "        s = ''\n",
    "        for line in input_file:\n",
    "            s += line\n",
    "    return s"
   ]
  },
  {
   "cell_type": "code",
   "execution_count": 76,
   "metadata": {},
   "outputs": [],
   "source": [
    "rootdir = os.fsencode('/Users/bettychou1993/Desktop/polygraph/story_db')"
   ]
  },
  {
   "cell_type": "code",
   "execution_count": 143,
   "metadata": {},
   "outputs": [],
   "source": [
    "def get_dir_cat(rootdir):\n",
    "    cat_and_path = {}\n",
    "    for subdir, dirs, files in os.walk(rootdir):\n",
    "        if subdir != rootdir:\n",
    "            cat = os.path.basename(subdir).decode(\"utf-8\")\n",
    "            cat_and_path[cat] = []\n",
    "            for f in files:\n",
    "                filepath = os.path.join(subdir, f)\n",
    "                cat_and_path[cat].append(filepath.decode(\"utf-8\"))\n",
    "    return cat_and_path"
   ]
  },
  {
   "cell_type": "code",
   "execution_count": 195,
   "metadata": {},
   "outputs": [],
   "source": [
    "vect = TfidfVectorizer(min_df=1)\n",
    "#article = load_data('article.txt')\n",
    "def match_articles(unknown_article, rootdir):\n",
    "    matches = []\n",
    "    for c, path in get_dir_cat(rootdir).items():\n",
    "        s = ''\n",
    "        for p in path:\n",
    "            s += load_data(p)\n",
    "        tfidf = vect.fit_transform([unknown_article, s])\n",
    "        matches.append(((tfidf * tfidf.T)[0, 1], c))\n",
    "    return max(matches)[1]"
   ]
  },
  {
   "cell_type": "code",
   "execution_count": null,
   "metadata": {},
   "outputs": [],
   "source": []
  }
 ],
 "metadata": {
  "kernelspec": {
   "display_name": "Python 3",
   "language": "python",
   "name": "python3"
  },
  "language_info": {
   "codemirror_mode": {
    "name": "ipython",
    "version": 3
   },
   "file_extension": ".py",
   "mimetype": "text/x-python",
   "name": "python",
   "nbconvert_exporter": "python",
   "pygments_lexer": "ipython3",
   "version": "3.6.5"
  }
 },
 "nbformat": 4,
 "nbformat_minor": 2
}
